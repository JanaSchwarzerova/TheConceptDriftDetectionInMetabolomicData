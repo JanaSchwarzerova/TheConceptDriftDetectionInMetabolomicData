{
  "nbformat": 4,
  "nbformat_minor": 0,
  "metadata": {
    "colab": {
      "name": "Logistic regression – DDM & EDDM.ipynb",
      "provenance": [],
      "collapsed_sections": []
    },
    "kernelspec": {
      "display_name": "Python 3",
      "name": "python3"
    },
    "language_info": {
      "name": "python"
    }
  },
  "cells": [
    {
      "cell_type": "markdown",
      "metadata": {
        "id": "lPxCrFpZr3mK"
      },
      "source": [
        "## Logistic regression – DDM & EDDM\n",
        "\n",
        "#DDM\n",
        "Link to the tool: https://github.com/scikit-multiflow/scikit-multiflow/blob/a7e316d/src/skmultiflow/drift_detection/ddm.py#L6\n",
        "<br>\n",
        "Documentation: https://scikit-multiflow.readthedocs.io/en/stable/api/generated/skmultiflow.drift_detection.DDM.html\n",
        "<br>\n",
        "Paper reference: https://link.springer.com/chapter/10.1007/978-3-540-28645-5_29\n",
        "\n",
        "#EDDM\n",
        "Link to the tool: https://github.com/scikit-multiflow/scikit-multiflow/blob/a7e316d/src/skmultiflow/drift_detection/eddm.py#L6\n",
        "<br>\n",
        "Documentation: https://scikit-multiflow.readthedocs.io/en/stable/api/generated/skmultiflow.drift_detection.EDDM.html#skmultiflow.drift_detection.EDDM\n",
        "<br>\n",
        "Paper reference: https://www.researchgate.net/profile/Albert-Bifet/publication/245999704_Early_Drift_Detection_Method/links/53e582cd0cf21cc29fd06017/Early-Drift-Detection-Method.pdf\n"
      ]
    },
    {
      "cell_type": "code",
      "metadata": {
        "id": "jMwYSStJ6qwp"
      },
      "source": [
        "!pip install scikit-multiflow"
      ],
      "execution_count": null,
      "outputs": []
    },
    {
      "cell_type": "code",
      "metadata": {
        "id": "3yBeMUUEw7To"
      },
      "source": [
        "import numpy as np\n",
        "import pandas as pd\n",
        "from sklearn.model_selection import train_test_split\n",
        "from sklearn.pipeline import make_pipeline\n",
        "from sklearn.linear_model import LogisticRegression\n",
        "from sklearn.impute import SimpleImputer\n",
        "from sklearn.preprocessing import StandardScaler\n",
        "from sklearn.preprocessing import OneHotEncoder\n",
        "from sklearn.metrics import mean_squared_error\n",
        "import math \n",
        "import csv\n",
        "from skmultiflow.drift_detection.ddm import DDM\n",
        "from google.colab import drive\n",
        "drive.mount('/content/drive', force_remount=True)\n",
        "\n",
        "# Loading a dataset\n",
        "#url = '/content/drive/MyDrive/Dataset/FinalDataBM_bcp-1.csv'\n",
        "#url = '/content/drive/MyDrive/Dataset/FinalDataGM_bcp-1.csv'\n",
        "#url = '/content/drive/MyDrive/Dataset/FinalDataBM_gender-1.csv'\n",
        "#url = '/content/drive/MyDrive/Dataset/FinalDataGM_gender-1.csv'\n",
        "#url = '/content/drive/MyDrive/Dataset/FinalDataBM_sm-1.csv'\n",
        "#url = '/content/drive/MyDrive/Dataset/FinalDataGM_sm-1.csv'\n",
        "\n",
        "#url = '/content/drive/MyDrive/Dataset/Dataset_without0/FinalDataBM_bcp.csv'\n",
        "#url = '/content/drive/MyDrive/Dataset/Dataset_without0/FinalDataGM_bcp.csv'\n",
        "#url = '/content/drive/MyDrive/Dataset/Dataset_without0/FinalDataBM_gender.csv'\n",
        "#url = '/content/drive/MyDrive/Dataset/Dataset_without0/FinalDataGM_gender.csv'\n",
        "#url = '/content/drive/MyDrive/Dataset/Dataset_without0/FinalDataBM_sm.csv'\n",
        "url = '/content/drive/MyDrive/Dataset/Dataset_without0/FinalDataGM_sm.csv'\n",
        "\n",
        "data_frame = pd.read_csv(url, delimiter=';')\n",
        "\n",
        "def clean_dataset(df):\n",
        "    assert isinstance(df, pd.DataFrame), \"df needs to be a pd.DataFrame\"\n",
        "    df.dropna(inplace=True)\n",
        "    indices_to_keep = ~data_frame.isin([np.nan, np.inf, -np.inf]).any(1)\n",
        "    return data_frame[indices_to_keep].astype(np.float64)\n",
        "\n",
        "data_frame = clean_dataset(data_frame)\n",
        "# Splitting the dataset\n",
        "#met_X, met_y = data_frame.drop(columns=\"bcp\"), data_frame.bcp\n",
        "#met_X, met_y = data_frame.drop(columns=\"gender\"), data_frame.gender\n",
        "met_X, met_y = data_frame.drop(columns=\"smoker\"), data_frame.smoker\n",
        "\n",
        "met_train_X, met_test_X, met_train_y, met_test_y = train_test_split(\n",
        "    met_X, met_y, test_size=0.2, random_state=42\n",
        ")\n",
        "\n",
        "# Training of the classificator\n",
        "pipeline = make_pipeline(SimpleImputer(), OneHotEncoder(handle_unknown='ignore'), LogisticRegression(max_iter=5000))\n",
        "pipeline.fit(met_train_X, met_train_y)\n",
        "predicted = pipeline.predict(met_test_X)\n",
        "print(pipeline.score(met_test_X, met_test_y))"
      ],
      "execution_count": null,
      "outputs": []
    },
    {
      "cell_type": "code",
      "metadata": {
        "id": "EJGOc-1ORP5b"
      },
      "source": [
        "ddm = DDM()\n",
        "\n",
        "# Adding stream elements to DDM and verifying if drift occurred\n",
        "\n",
        "for i in range(len(predicted)):\n",
        "    ddm.add_element(predicted[i])\n",
        "    if ddm.detected_warning_zone():\n",
        "        print('Warning zone has been detected in data: ' + str(predicted[i]) + ' - of index: ' + str(i))\n",
        "    if ddm.detected_change():\n",
        "        print('Change detected in data: ' + str(predicted[i]) + ' - at index: ' + str(i))"
      ],
      "execution_count": null,
      "outputs": []
    },
    {
      "cell_type": "code",
      "metadata": {
        "id": "YFqcEAM8TouX"
      },
      "source": [
        "#EDDM\n",
        "from skmultiflow.drift_detection.eddm import EDDM\n",
        "eddm = EDDM()\n",
        "\n",
        "# Adding stream elements to EDDM and verifying if drift occurred\n",
        "\n",
        "for i in range(len(predicted)):\n",
        "    eddm.add_element(predicted[i])\n",
        "    if eddm.detected_warning_zone():\n",
        "        print('Warning zone has been detected in data: ' + str(predicted[i]) + ' - of index: ' + str(i))\n",
        "    if eddm.detected_change():\n",
        "        print('Change detected in data: ' + str(predicted[i]) + ' - at index: ' + str(i))"
      ],
      "execution_count": null,
      "outputs": []
    }
  ]
}