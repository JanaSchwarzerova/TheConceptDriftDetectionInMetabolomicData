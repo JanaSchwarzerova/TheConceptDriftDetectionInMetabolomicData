{
  "nbformat": 4,
  "nbformat_minor": 0,
  "metadata": {
    "colab": {
      "name": "Logistic regression – DDM & EDDM.ipynb",
      "provenance": [],
      "collapsed_sections": []
    },
    "kernelspec": {
      "display_name": "Python 3",
      "name": "python3"
    },
    "language_info": {
      "name": "python"
    }
  },
  "cells": [
    {
      "cell_type": "markdown",
      "metadata": {
        "id": "lPxCrFpZr3mK"
      },
      "source": [
        "## Logistic regression – DDM & EDDM\n",
        "\n",
        "#DDM\n",
        "Link to the tool: https://github.com/scikit-multiflow/scikit-multiflow/blob/a7e316d/src/skmultiflow/drift_detection/ddm.py#L6\n",
        "<br>\n",
        "Documentation: https://scikit-multiflow.readthedocs.io/en/stable/api/generated/skmultiflow.drift_detection.DDM.html\n",
        "<br>\n",
        "Paper reference: https://link.springer.com/chapter/10.1007/978-3-540-28645-5_29\n",
        "\n",
        "#EDDM\n",
        "Link to the tool: https://github.com/scikit-multiflow/scikit-multiflow/blob/a7e316d/src/skmultiflow/drift_detection/eddm.py#L6\n",
        "<br>\n",
        "Documentation: https://scikit-multiflow.readthedocs.io/en/stable/api/generated/skmultiflow.drift_detection.EDDM.html#skmultiflow.drift_detection.EDDM\n",
        "<br>\n",
        "Paper reference: https://www.researchgate.net/profile/Albert-Bifet/publication/245999704_Early_Drift_Detection_Method/links/53e582cd0cf21cc29fd06017/Early-Drift-Detection-Method.pdf\n"
      ]
    },
    {
      "cell_type": "code",
      "metadata": {
        "colab": {
          "base_uri": "https://localhost:8080/"
        },
        "id": "jMwYSStJ6qwp",
        "outputId": "409c9514-c5a8-4bc9-a8b3-4e436d9e9307"
      },
      "source": [
        "!pip install scikit-multiflow"
      ],
      "execution_count": null,
      "outputs": [
        {
          "output_type": "stream",
          "text": [
            "Collecting scikit-multiflow\n",
            "  Downloading scikit_multiflow-0.5.3-cp37-cp37m-manylinux2010_x86_64.whl (1.1 MB)\n",
            "\u001b[?25l\r\u001b[K     |▎                               | 10 kB 18.5 MB/s eta 0:00:01\r\u001b[K     |▋                               | 20 kB 22.6 MB/s eta 0:00:01\r\u001b[K     |▉                               | 30 kB 7.7 MB/s eta 0:00:01\r\u001b[K     |█▏                              | 40 kB 8.8 MB/s eta 0:00:01\r\u001b[K     |█▌                              | 51 kB 7.0 MB/s eta 0:00:01\r\u001b[K     |█▊                              | 61 kB 7.7 MB/s eta 0:00:01\r\u001b[K     |██                              | 71 kB 7.6 MB/s eta 0:00:01\r\u001b[K     |██▍                             | 81 kB 8.4 MB/s eta 0:00:01\r\u001b[K     |██▋                             | 92 kB 6.3 MB/s eta 0:00:01\r\u001b[K     |███                             | 102 kB 6.4 MB/s eta 0:00:01\r\u001b[K     |███▏                            | 112 kB 6.4 MB/s eta 0:00:01\r\u001b[K     |███▌                            | 122 kB 6.4 MB/s eta 0:00:01\r\u001b[K     |███▉                            | 133 kB 6.4 MB/s eta 0:00:01\r\u001b[K     |████                            | 143 kB 6.4 MB/s eta 0:00:01\r\u001b[K     |████▍                           | 153 kB 6.4 MB/s eta 0:00:01\r\u001b[K     |████▊                           | 163 kB 6.4 MB/s eta 0:00:01\r\u001b[K     |█████                           | 174 kB 6.4 MB/s eta 0:00:01\r\u001b[K     |█████▎                          | 184 kB 6.4 MB/s eta 0:00:01\r\u001b[K     |█████▌                          | 194 kB 6.4 MB/s eta 0:00:01\r\u001b[K     |█████▉                          | 204 kB 6.4 MB/s eta 0:00:01\r\u001b[K     |██████▏                         | 215 kB 6.4 MB/s eta 0:00:01\r\u001b[K     |██████▍                         | 225 kB 6.4 MB/s eta 0:00:01\r\u001b[K     |██████▊                         | 235 kB 6.4 MB/s eta 0:00:01\r\u001b[K     |███████                         | 245 kB 6.4 MB/s eta 0:00:01\r\u001b[K     |███████▎                        | 256 kB 6.4 MB/s eta 0:00:01\r\u001b[K     |███████▋                        | 266 kB 6.4 MB/s eta 0:00:01\r\u001b[K     |████████                        | 276 kB 6.4 MB/s eta 0:00:01\r\u001b[K     |████████▏                       | 286 kB 6.4 MB/s eta 0:00:01\r\u001b[K     |████████▌                       | 296 kB 6.4 MB/s eta 0:00:01\r\u001b[K     |████████▊                       | 307 kB 6.4 MB/s eta 0:00:01\r\u001b[K     |█████████                       | 317 kB 6.4 MB/s eta 0:00:01\r\u001b[K     |█████████▍                      | 327 kB 6.4 MB/s eta 0:00:01\r\u001b[K     |█████████▋                      | 337 kB 6.4 MB/s eta 0:00:01\r\u001b[K     |██████████                      | 348 kB 6.4 MB/s eta 0:00:01\r\u001b[K     |██████████▎                     | 358 kB 6.4 MB/s eta 0:00:01\r\u001b[K     |██████████▌                     | 368 kB 6.4 MB/s eta 0:00:01\r\u001b[K     |██████████▉                     | 378 kB 6.4 MB/s eta 0:00:01\r\u001b[K     |███████████                     | 389 kB 6.4 MB/s eta 0:00:01\r\u001b[K     |███████████▍                    | 399 kB 6.4 MB/s eta 0:00:01\r\u001b[K     |███████████▊                    | 409 kB 6.4 MB/s eta 0:00:01\r\u001b[K     |████████████                    | 419 kB 6.4 MB/s eta 0:00:01\r\u001b[K     |████████████▎                   | 430 kB 6.4 MB/s eta 0:00:01\r\u001b[K     |████████████▋                   | 440 kB 6.4 MB/s eta 0:00:01\r\u001b[K     |████████████▉                   | 450 kB 6.4 MB/s eta 0:00:01\r\u001b[K     |█████████████▏                  | 460 kB 6.4 MB/s eta 0:00:01\r\u001b[K     |█████████████▌                  | 471 kB 6.4 MB/s eta 0:00:01\r\u001b[K     |█████████████▊                  | 481 kB 6.4 MB/s eta 0:00:01\r\u001b[K     |██████████████                  | 491 kB 6.4 MB/s eta 0:00:01\r\u001b[K     |██████████████▎                 | 501 kB 6.4 MB/s eta 0:00:01\r\u001b[K     |██████████████▋                 | 512 kB 6.4 MB/s eta 0:00:01\r\u001b[K     |███████████████                 | 522 kB 6.4 MB/s eta 0:00:01\r\u001b[K     |███████████████▏                | 532 kB 6.4 MB/s eta 0:00:01\r\u001b[K     |███████████████▌                | 542 kB 6.4 MB/s eta 0:00:01\r\u001b[K     |███████████████▉                | 552 kB 6.4 MB/s eta 0:00:01\r\u001b[K     |████████████████                | 563 kB 6.4 MB/s eta 0:00:01\r\u001b[K     |████████████████▍               | 573 kB 6.4 MB/s eta 0:00:01\r\u001b[K     |████████████████▋               | 583 kB 6.4 MB/s eta 0:00:01\r\u001b[K     |█████████████████               | 593 kB 6.4 MB/s eta 0:00:01\r\u001b[K     |█████████████████▎              | 604 kB 6.4 MB/s eta 0:00:01\r\u001b[K     |█████████████████▌              | 614 kB 6.4 MB/s eta 0:00:01\r\u001b[K     |█████████████████▉              | 624 kB 6.4 MB/s eta 0:00:01\r\u001b[K     |██████████████████▏             | 634 kB 6.4 MB/s eta 0:00:01\r\u001b[K     |██████████████████▍             | 645 kB 6.4 MB/s eta 0:00:01\r\u001b[K     |██████████████████▊             | 655 kB 6.4 MB/s eta 0:00:01\r\u001b[K     |███████████████████             | 665 kB 6.4 MB/s eta 0:00:01\r\u001b[K     |███████████████████▎            | 675 kB 6.4 MB/s eta 0:00:01\r\u001b[K     |███████████████████▋            | 686 kB 6.4 MB/s eta 0:00:01\r\u001b[K     |███████████████████▉            | 696 kB 6.4 MB/s eta 0:00:01\r\u001b[K     |████████████████████▏           | 706 kB 6.4 MB/s eta 0:00:01\r\u001b[K     |████████████████████▌           | 716 kB 6.4 MB/s eta 0:00:01\r\u001b[K     |████████████████████▊           | 727 kB 6.4 MB/s eta 0:00:01\r\u001b[K     |█████████████████████           | 737 kB 6.4 MB/s eta 0:00:01\r\u001b[K     |█████████████████████▍          | 747 kB 6.4 MB/s eta 0:00:01\r\u001b[K     |█████████████████████▋          | 757 kB 6.4 MB/s eta 0:00:01\r\u001b[K     |██████████████████████          | 768 kB 6.4 MB/s eta 0:00:01\r\u001b[K     |██████████████████████▏         | 778 kB 6.4 MB/s eta 0:00:01\r\u001b[K     |██████████████████████▌         | 788 kB 6.4 MB/s eta 0:00:01\r\u001b[K     |██████████████████████▉         | 798 kB 6.4 MB/s eta 0:00:01\r\u001b[K     |███████████████████████         | 808 kB 6.4 MB/s eta 0:00:01\r\u001b[K     |███████████████████████▍        | 819 kB 6.4 MB/s eta 0:00:01\r\u001b[K     |███████████████████████▊        | 829 kB 6.4 MB/s eta 0:00:01\r\u001b[K     |████████████████████████        | 839 kB 6.4 MB/s eta 0:00:01\r\u001b[K     |████████████████████████▎       | 849 kB 6.4 MB/s eta 0:00:01\r\u001b[K     |████████████████████████▌       | 860 kB 6.4 MB/s eta 0:00:01\r\u001b[K     |████████████████████████▉       | 870 kB 6.4 MB/s eta 0:00:01\r\u001b[K     |█████████████████████████▏      | 880 kB 6.4 MB/s eta 0:00:01\r\u001b[K     |█████████████████████████▍      | 890 kB 6.4 MB/s eta 0:00:01\r\u001b[K     |█████████████████████████▊      | 901 kB 6.4 MB/s eta 0:00:01\r\u001b[K     |██████████████████████████      | 911 kB 6.4 MB/s eta 0:00:01\r\u001b[K     |██████████████████████████▎     | 921 kB 6.4 MB/s eta 0:00:01\r\u001b[K     |██████████████████████████▋     | 931 kB 6.4 MB/s eta 0:00:01\r\u001b[K     |███████████████████████████     | 942 kB 6.4 MB/s eta 0:00:01\r\u001b[K     |███████████████████████████▏    | 952 kB 6.4 MB/s eta 0:00:01\r\u001b[K     |███████████████████████████▌    | 962 kB 6.4 MB/s eta 0:00:01\r\u001b[K     |███████████████████████████▊    | 972 kB 6.4 MB/s eta 0:00:01\r\u001b[K     |████████████████████████████    | 983 kB 6.4 MB/s eta 0:00:01\r\u001b[K     |████████████████████████████▍   | 993 kB 6.4 MB/s eta 0:00:01\r\u001b[K     |████████████████████████████▋   | 1.0 MB 6.4 MB/s eta 0:00:01\r\u001b[K     |█████████████████████████████   | 1.0 MB 6.4 MB/s eta 0:00:01\r\u001b[K     |█████████████████████████████▎  | 1.0 MB 6.4 MB/s eta 0:00:01\r\u001b[K     |█████████████████████████████▌  | 1.0 MB 6.4 MB/s eta 0:00:01\r\u001b[K     |█████████████████████████████▉  | 1.0 MB 6.4 MB/s eta 0:00:01\r\u001b[K     |██████████████████████████████  | 1.1 MB 6.4 MB/s eta 0:00:01\r\u001b[K     |██████████████████████████████▍ | 1.1 MB 6.4 MB/s eta 0:00:01\r\u001b[K     |██████████████████████████████▊ | 1.1 MB 6.4 MB/s eta 0:00:01\r\u001b[K     |███████████████████████████████ | 1.1 MB 6.4 MB/s eta 0:00:01\r\u001b[K     |███████████████████████████████▎| 1.1 MB 6.4 MB/s eta 0:00:01\r\u001b[K     |███████████████████████████████▋| 1.1 MB 6.4 MB/s eta 0:00:01\r\u001b[K     |███████████████████████████████▉| 1.1 MB 6.4 MB/s eta 0:00:01\r\u001b[K     |████████████████████████████████| 1.1 MB 6.4 MB/s \n",
            "\u001b[?25hRequirement already satisfied: matplotlib>=2.0.0 in /usr/local/lib/python3.7/dist-packages (from scikit-multiflow) (3.2.2)\n",
            "Requirement already satisfied: sortedcontainers>=1.5.7 in /usr/local/lib/python3.7/dist-packages (from scikit-multiflow) (2.4.0)\n",
            "Requirement already satisfied: scikit-learn>=0.20 in /usr/local/lib/python3.7/dist-packages (from scikit-multiflow) (0.22.2.post1)\n",
            "Requirement already satisfied: scipy>=1.0.0 in /usr/local/lib/python3.7/dist-packages (from scikit-multiflow) (1.4.1)\n",
            "Requirement already satisfied: numpy>=1.14.0 in /usr/local/lib/python3.7/dist-packages (from scikit-multiflow) (1.19.5)\n",
            "Requirement already satisfied: pandas>=0.25.3 in /usr/local/lib/python3.7/dist-packages (from scikit-multiflow) (1.1.5)\n",
            "Requirement already satisfied: pyparsing!=2.0.4,!=2.1.2,!=2.1.6,>=2.0.1 in /usr/local/lib/python3.7/dist-packages (from matplotlib>=2.0.0->scikit-multiflow) (2.4.7)\n",
            "Requirement already satisfied: python-dateutil>=2.1 in /usr/local/lib/python3.7/dist-packages (from matplotlib>=2.0.0->scikit-multiflow) (2.8.1)\n",
            "Requirement already satisfied: cycler>=0.10 in /usr/local/lib/python3.7/dist-packages (from matplotlib>=2.0.0->scikit-multiflow) (0.10.0)\n",
            "Requirement already satisfied: kiwisolver>=1.0.1 in /usr/local/lib/python3.7/dist-packages (from matplotlib>=2.0.0->scikit-multiflow) (1.3.1)\n",
            "Requirement already satisfied: six in /usr/local/lib/python3.7/dist-packages (from cycler>=0.10->matplotlib>=2.0.0->scikit-multiflow) (1.15.0)\n",
            "Requirement already satisfied: pytz>=2017.2 in /usr/local/lib/python3.7/dist-packages (from pandas>=0.25.3->scikit-multiflow) (2018.9)\n",
            "Requirement already satisfied: joblib>=0.11 in /usr/local/lib/python3.7/dist-packages (from scikit-learn>=0.20->scikit-multiflow) (1.0.1)\n",
            "Installing collected packages: scikit-multiflow\n",
            "Successfully installed scikit-multiflow-0.5.3\n"
          ],
          "name": "stdout"
        }
      ]
    },
    {
      "cell_type": "code",
      "metadata": {
        "id": "3yBeMUUEw7To",
        "colab": {
          "base_uri": "https://localhost:8080/"
        },
        "outputId": "2f4deaf3-8602-4045-cd66-68232532862f"
      },
      "source": [
        "import numpy as np\n",
        "import pandas as pd\n",
        "from sklearn.model_selection import train_test_split\n",
        "from sklearn.pipeline import make_pipeline\n",
        "from sklearn.linear_model import LogisticRegression\n",
        "from sklearn.impute import SimpleImputer\n",
        "from sklearn.preprocessing import StandardScaler\n",
        "from sklearn.preprocessing import OneHotEncoder\n",
        "from sklearn.metrics import mean_squared_error\n",
        "import math \n",
        "import csv\n",
        "from skmultiflow.drift_detection.ddm import DDM\n",
        "from google.colab import drive\n",
        "drive.mount('/content/drive', force_remount=True)\n",
        "\n",
        "# Loading a dataset\n",
        "#url = '/content/drive/MyDrive/Dataset/FinalDataBM_bcp-1.csv'\n",
        "#url = '/content/drive/MyDrive/Dataset/FinalDataGM_bcp-1.csv'\n",
        "#url = '/content/drive/MyDrive/Dataset/FinalDataBM_gender-1.csv'\n",
        "#url = '/content/drive/MyDrive/Dataset/FinalDataGM_gender-1.csv'\n",
        "#url = '/content/drive/MyDrive/Dataset/FinalDataBM_sm-1.csv'\n",
        "#url = '/content/drive/MyDrive/Dataset/FinalDataGM_sm-1.csv'\n",
        "\n",
        "#url = '/content/drive/MyDrive/Dataset/Dataset_without0/FinalDataBM_bcp.csv'\n",
        "#url = '/content/drive/MyDrive/Dataset/Dataset_without0/FinalDataGM_bcp.csv'\n",
        "#url = '/content/drive/MyDrive/Dataset/Dataset_without0/FinalDataBM_gender.csv'\n",
        "#url = '/content/drive/MyDrive/Dataset/Dataset_without0/FinalDataGM_gender.csv'\n",
        "#url = '/content/drive/MyDrive/Dataset/Dataset_without0/FinalDataBM_sm.csv'\n",
        "url = '/content/drive/MyDrive/Dataset/Dataset_without0/FinalDataGM_sm.csv'\n",
        "\n",
        "data_frame = pd.read_csv(url, delimiter=';')\n",
        "\n",
        "def clean_dataset(df):\n",
        "    assert isinstance(df, pd.DataFrame), \"df needs to be a pd.DataFrame\"\n",
        "    df.dropna(inplace=True)\n",
        "    indices_to_keep = ~data_frame.isin([np.nan, np.inf, -np.inf]).any(1)\n",
        "    return data_frame[indices_to_keep].astype(np.float64)\n",
        "\n",
        "data_frame = clean_dataset(data_frame)\n",
        "# Splitting the dataset\n",
        "#met_X, met_y = data_frame.drop(columns=\"bcp\"), data_frame.bcp\n",
        "#met_X, met_y = data_frame.drop(columns=\"gender\"), data_frame.gender\n",
        "met_X, met_y = data_frame.drop(columns=\"smoker\"), data_frame.smoker\n",
        "\n",
        "met_train_X, met_test_X, met_train_y, met_test_y = train_test_split(\n",
        "    met_X, met_y, test_size=0.2, random_state=42\n",
        ")\n",
        "\n",
        "# Training of the classificator\n",
        "pipeline = make_pipeline(SimpleImputer(), OneHotEncoder(handle_unknown='ignore'), LogisticRegression(max_iter=5000))\n",
        "pipeline.fit(met_train_X, met_train_y)\n",
        "predicted = pipeline.predict(met_test_X)\n",
        "print(pipeline.score(met_test_X, met_test_y))"
      ],
      "execution_count": null,
      "outputs": [
        {
          "output_type": "stream",
          "text": [
            "Mounted at /content/drive\n",
            "0.7\n"
          ],
          "name": "stdout"
        }
      ]
    },
    {
      "cell_type": "code",
      "metadata": {
        "id": "EJGOc-1ORP5b",
        "colab": {
          "base_uri": "https://localhost:8080/"
        },
        "outputId": "98b81861-6f93-446c-8263-f9c219aaf1b2"
      },
      "source": [
        "ddm = DDM()\n",
        "\n",
        "# Adding stream elements to DDM and verifying if drift occurred\n",
        "\n",
        "for i in range(len(predicted)):\n",
        "    ddm.add_element(predicted[i])\n",
        "    if ddm.detected_warning_zone():\n",
        "        print('Warning zone has been detected in data: ' + str(predicted[i]) + ' - of index: ' + str(i))\n",
        "    if ddm.detected_change():\n",
        "        print('Change detected in data: ' + str(predicted[i]) + ' - at index: ' + str(i))"
      ],
      "execution_count": null,
      "outputs": [
        {
          "output_type": "stream",
          "text": [
            "/usr/local/lib/python3.7/dist-packages/skmultiflow/drift_detection/ddm.py:126: RuntimeWarning: invalid value encountered in sqrt\n",
            "  self.miss_std = np.sqrt(self.miss_prob * (1 - self.miss_prob) / float(self.sample_count))\n"
          ],
          "name": "stderr"
        }
      ]
    },
    {
      "cell_type": "code",
      "metadata": {
        "id": "YFqcEAM8TouX"
      },
      "source": [
        "#EDDM\n",
        "from skmultiflow.drift_detection.eddm import EDDM\n",
        "eddm = EDDM()\n",
        "\n",
        "# Adding stream elements to EDDM and verifying if drift occurred\n",
        "\n",
        "for i in range(len(predicted)):\n",
        "    eddm.add_element(predicted[i])\n",
        "    if eddm.detected_warning_zone():\n",
        "        print('Warning zone has been detected in data: ' + str(predicted[i]) + ' - of index: ' + str(i))\n",
        "    if eddm.detected_change():\n",
        "        print('Change detected in data: ' + str(predicted[i]) + ' - at index: ' + str(i))"
      ],
      "execution_count": null,
      "outputs": []
    }
  ]
}